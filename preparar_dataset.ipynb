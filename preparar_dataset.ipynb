{
 "cells": [
  {
   "cell_type": "code",
   "execution_count": 10,
   "metadata": {},
   "outputs": [],
   "source": [
    "#Importar bibliotecas"
   ]
  },
  {
   "cell_type": "code",
   "execution_count": 3,
   "metadata": {},
   "outputs": [],
   "source": [
    "#Configurar variáveis\n",
    "arquivo = \"bin/dataset.txt\"\n",
    "arquivo_original = \"bin/dataset_copia.txt\"\n",
    "dataset_input = \"bin/dataset_input.txt\"\n",
    "dataset_output = \"bin/dataset_output.txt\""
   ]
  },
  {
   "cell_type": "code",
   "execution_count": 4,
   "metadata": {},
   "outputs": [
    {
     "data": {
      "text/plain": [
       "'bin/dataset_copia_volta_completa.txt'"
      ]
     },
     "execution_count": 4,
     "metadata": {},
     "output_type": "execute_result"
    }
   ],
   "source": [
    "#Copiar aquivo\n",
    "import shutil\n",
    "shutil.copyfile(arquivo, arquivo_original)"
   ]
  },
  {
   "cell_type": "code",
   "execution_count": 5,
   "metadata": {},
   "outputs": [],
   "source": [
    "#Excluir última linha do arquivo:\n",
    "with open(arquivo_original, \"r+\") as f:\n",
    "    current_position = previous_position = f.tell()\n",
    "    while f.readline():\n",
    "        previous_position = current_position\n",
    "        current_position = f.tell()\n",
    "    f.truncate(previous_position)"
   ]
  },
  {
   "cell_type": "code",
   "execution_count": 6,
   "metadata": {},
   "outputs": [],
   "source": [
    "#Excluir primeira linha do arquivo:\n",
    "with open(arquivo_original, 'r+') as txt_file:\n",
    "    lines = txt_file.readlines()\n",
    "    txt_file.seek(0)\n",
    "    for i, line in enumerate(lines):\n",
    "        if i >= 1:\n",
    "            txt_file.write(line)\n",
    "    txt_file.truncate()"
   ]
  },
  {
   "cell_type": "code",
   "execution_count": 7,
   "metadata": {},
   "outputs": [],
   "source": [
    "#Remover labels dos dados\n",
    "import re\n",
    "labels = [\"gx:\",\"gy:\",\"gtheta:\",\"tv:\",\"lx:\",\"ly:\",\"ltheta:\",\"lv:\",\"lphi:\"]\n",
    "with open(arquivo_original, 'r+') as txt_file:\n",
    "    lines = txt_file.readlines()\n",
    "    txt_file.seek(0)\n",
    "    for i, line in enumerate(lines):\n",
    "        for label in labels:\n",
    "            line = line.replace(label, \"\")\n",
    "        line = re.sub('c.*?:', '', line)\n",
    "        txt_file.write(line)\n",
    "    txt_file.truncate()"
   ]
  },
  {
   "cell_type": "code",
   "execution_count": 8,
   "metadata": {},
   "outputs": [],
   "source": [
    "#Separa os dados em input e output\n",
    "with open(arquivo_original, 'r') as txt_file, open(dataset_input, 'w+') as input_file, open(dataset_output, 'w+') as output_file:\n",
    "    lines = txt_file.readlines()\n",
    "    txt_file.seek(0)\n",
    "    input_file.seek(0)\n",
    "    output_file.seek(0)\n",
    "    for i, line in enumerate(lines):\n",
    "        line_input = \";\".join(line.split(\";\")[:9])\n",
    "        line_output = \";\".join(line.split(\";\")[9:-1])\n",
    "        input_file.write(line_input+'\\n')\n",
    "        output_file.write(line_output+'\\n')#[:-3]+'\\n'\n",
    "    input_file.truncate()\n",
    "    output_file.truncate()"
   ]
  },
  {
   "cell_type": "code",
   "execution_count": 9,
   "metadata": {},
   "outputs": [],
   "source": [
    "#Remover último comando do output (t=0.000)\n",
    "with open(dataset_output, 'r+') as output_file:\n",
    "    lines = output_file.readlines()\n",
    "    output_file.seek(0)\n",
    "    for i, line in enumerate(lines):\n",
    "        line_output = \";\".join(line.split(\";\")[:-3])\n",
    "        output_file.write(line_output+'\\n')#[:-3]+'\\n'\n",
    "    output_file.truncate()"
   ]
  },
  {
   "cell_type": "code",
   "execution_count": 91,
   "metadata": {},
   "outputs": [],
   "source": [
    "#Remover todos os comandos, mantendo apenas o primeiro\n",
    "with open(dataset_output, 'r+') as output_file:\n",
    "    lines = output_file.readlines()\n",
    "    output_file.seek(0)\n",
    "    for i, line in enumerate(lines):\n",
    "        line_output = \";\".join(line.split(\";\")[:3])\n",
    "        output_file.write(line_output+'\\n')#[:-3]+'\\n'\n",
    "    output_file.truncate()"
   ]
  }
 ],
 "metadata": {
  "kernelspec": {
   "display_name": "Python 3",
   "language": "python",
   "name": "python3"
  },
  "language_info": {
   "codemirror_mode": {
    "name": "ipython",
    "version": 3
   },
   "file_extension": ".py",
   "mimetype": "text/x-python",
   "name": "python",
   "nbconvert_exporter": "python",
   "pygments_lexer": "ipython3",
   "version": "3.8.10"
  },
  "orig_nbformat": 4
 },
 "nbformat": 4,
 "nbformat_minor": 2
}
