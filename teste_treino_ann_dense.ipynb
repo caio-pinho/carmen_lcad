{
 "cells": [
  {
   "cell_type": "code",
   "execution_count": 47,
   "metadata": {},
   "outputs": [],
   "source": [
    "import numpy as np\n",
    "import tensorflow as tf"
   ]
  },
  {
   "cell_type": "code",
   "execution_count": 48,
   "metadata": {},
   "outputs": [
    {
     "name": "stdout",
     "output_type": "stream",
     "text": [
      "[100.   230.     0.95 100.  ]Input Matrix=[120.   5. 120.]Output Matrix\n",
      "[200.   245.     0.99 121.  ]Input Matrix=[123.  24. 100.]Output Matrix\n",
      "[ 40.   250.     0.91 123.  ]Input Matrix=[154.   3. 121.]Output Matrix\n"
     ]
    }
   ],
   "source": [
    "#Inputando os dados\n",
    "inputMatrix = np.array([(100,230,0.95,100),\n",
    "                        (200,245,0.99,121),\n",
    "                        ( 40,250,0.91,123)],dtype=float)\n",
    "outputMatrix = np.array([(120, 5,120),\n",
    "                         (123,24,100),\n",
    "                         (154, 3,121)],dtype=float)\n",
    "for i,c in enumerate(inputMatrix):\n",
    "    print(\"{}Input Matrix={}Output Matrix\".format(c,outputMatrix[i]))"
   ]
  },
  {
   "cell_type": "code",
   "execution_count": 49,
   "metadata": {},
   "outputs": [
    {
     "name": "stdout",
     "output_type": "stream",
     "text": [
      "[ 7.75751773e+06 -3.63656637e+05  2.50000000e-02  3.20200000e+00\n",
      " -2.51000000e-01  7.75752800e+06 -3.63658752e+05 -1.49000000e-01\n",
      "  8.55000000e+00]Input Matrix=[3.218 0.025 0.02 ]Output Matrix\n"
     ]
    }
   ],
   "source": [
    "#Entrada dos dados: current x, current y, current phi, current v, current theta, goal_pose x, goal_pose y, goal_pose theta, target v\n",
    "inputMatrix = np.array([(7757517.727,-363656.637,0.025,3.202,-0.251,7757527.998,-363658.752,-0.149,8.55)],dtype=float)\n",
    "\n",
    "#Saida dos dados: v, phi, t:\n",
    "outputMatrix = np.array([(3.218,0.025,0.020)],dtype=float)\n",
    "\n",
    "for i,c in enumerate(inputMatrix):\n",
    "    print(\"{}Input Matrix={}Output Matrix\".format(c,outputMatrix[i]))"
   ]
  },
  {
   "cell_type": "code",
   "execution_count": 60,
   "metadata": {},
   "outputs": [],
   "source": [
    "#Criando o modelo \n",
    "l0 = tf.keras.layers.Dense(units = 4, input_shape = [9])\n",
    "l1 = tf.keras.layers.Dense(units = 64)\n",
    "l2 = tf.keras.layers.Dense(units = 128)\n",
    "l3 = tf.keras.layers.Dense(units = 3)\n",
    "\n",
    "model = tf.keras.Sequential([l0,l1,l2,l3])"
   ]
  },
  {
   "cell_type": "code",
   "execution_count": 61,
   "metadata": {},
   "outputs": [],
   "source": [
    "#Compilando o modelo\n",
    "model.compile(loss='mean_squared_error', optimizer=tf.keras.optimizers.Adam(0.1))"
   ]
  },
  {
   "cell_type": "code",
   "execution_count": 62,
   "metadata": {},
   "outputs": [
    {
     "name": "stdout",
     "output_type": "stream",
     "text": [
      "Finished training the model!\n"
     ]
    }
   ],
   "source": [
    "#Treinar o modelo\n",
    "history = model.fit(inputMatrix,outputMatrix,epochs=500,verbose=False)\n",
    "print(\"Finished training the model!\")"
   ]
  },
  {
   "cell_type": "code",
   "execution_count": 63,
   "metadata": {},
   "outputs": [
    {
     "data": {
      "text/plain": [
       "[<matplotlib.lines.Line2D at 0x7f08b8fb4a30>]"
      ]
     },
     "execution_count": 63,
     "metadata": {},
     "output_type": "execute_result"
    },
    {
     "data": {
      "image/png": "[encoded data removed]",
      "text/plain": [
       "<Figure size 640x480 with 1 Axes>"
      ]
     },
     "metadata": {},
     "output_type": "display_data"
    }
   ],
   "source": [
    "#Exibir estatísticas do treino\n",
    "import matplotlib.pyplot as plt\n",
    "plt.xlabel('Epoch Number')\n",
    "plt.ylabel('Loss Magnitude')\n",
    "plt.plot(history.history['loss'])"
   ]
  },
  {
   "cell_type": "markdown",
   "metadata": {},
   "source": [
    "#Predição do resultado\n",
    "print(model.predict(np.array([120,260,0.98,110]).reshape(1,4)))\n"
   ]
  },
  {
   "cell_type": "code",
   "execution_count": 65,
   "metadata": {},
   "outputs": [
    {
     "name": "stdout",
     "output_type": "stream",
     "text": [
      "1/1 [==============================] - 0s 9ms/step\n",
      "[[3.3248322  0.19684735 0.29153824]]\n"
     ]
    }
   ],
   "source": [
    "#Predição do resultado (minha nn)\n",
    "#Entrada dos dados: current x, current y, current phi, current v, current theta, goal_pose x, goal_pose y, goal_pose theta, target v\n",
    "print(model.predict(np.array([7757517.891,-363656.678,-0.250,3.260,-0.250,7757528.493,-363658.826,-0.144,8.55]).reshape(1,9)))\n",
    "#predição: (v, phi, t)"
   ]
  }
 ],
 "metadata": {
  "kernelspec": {
   "display_name": "Python 3",
   "language": "python",
   "name": "python3"
  },
  "language_info": {
   "codemirror_mode": {
    "name": "ipython",
    "version": 3
   },
   "file_extension": ".py",
   "mimetype": "text/x-python",
   "name": "python",
   "nbconvert_exporter": "python",
   "pygments_lexer": "ipython3",
   "version": "3.8.10"
  },
  "orig_nbformat": 4
 },
 "nbformat": 4,
 "nbformat_minor": 2
}
